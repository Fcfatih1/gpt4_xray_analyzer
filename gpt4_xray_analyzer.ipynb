{
 "cells": [
  {
   "cell_type": "code",
   "execution_count": 1,
   "metadata": {},
   "outputs": [],
   "source": [
    "openaikey = \"<openai-api-key>\" #Add your OpenAI API key here\n",
    "\n",
    "\n",
    "# Importing the necessary libraries\n",
    "import os \n",
    "from openai import OpenAI # OpenAI official Python package\n",
    "import base64 \n",
    "import requests \n",
    "import json\n"
   ]
  },
  {
   "cell_type": "markdown",
   "metadata": {},
   "source": [
    "## Following is zero shot learning for reading x-ray image\n",
    "#### x-ray image was taken from  https://nihcc.app.box.com/v/ChestXray-NIHCC/folder/37178474737"
   ]
  },
  {
   "cell_type": "code",
   "execution_count": 2,
   "metadata": {},
   "outputs": [],
   "source": [
    "# OpenAI API client\n",
    "client = OpenAI(\n",
    "    api_key=openaikey) # OpenAI API key\n",
    "\n",
    "# Function to encode image to base64\n",
    "def encode_image(image_path):\n",
    "  with open(image_path, 'rb') as image_file:\n",
    "            return base64.b64encode(image_file.read()).decode(\"utf-8\")\n",
    "\n",
    "system_prompt_content= system_prompt_content= \"Assume the role of a virtual radiologist equipped with advanced AI capabilities. You are presented with a series of \\\n",
    "digital X-ray images. Your task is to meticulously analyze these images for any signs of medical abnormalities or conditions. For each \\\n",
    "X-ray, provide a detailed interpretation by identifying notable features, such as the presence of fractures, lesions, abnormal \\\n",
    "growths, signs of pneumonia, tuberculosis, or other lung conditions. Explain the significance of these features and how they \\\n",
    "correlate with potential medical diagnoses. Additionally, if an X-ray appears normal, describe the key aspects that support a conclusion \\\n",
    "of no abnormal findings. Please note that your analysis is for simulation purposes only and should not replace professional medical advice.\"\n",
    "\n",
    "# Function to generate the response\n",
    "def llm_output (system_prompt_content, user_prompt_content, image_path):\n",
    "  base64_image = encode_image(image_path)\n",
    "  response = client.chat.completions.create(\n",
    "    model=\"gpt-4-vision-preview\",\n",
    "    messages=[\n",
    "          {\n",
    "          \"role\": \"system\",\n",
    "          \"content\": system_prompt_content\n",
    "      },\n",
    "      {\n",
    "        \"role\": \"user\",\n",
    "        \"content\": [\n",
    "          {\"type\": \"text\", \"text\": user_prompt_content },\n",
    "          {\n",
    "            \"type\": \"image_url\",\n",
    "            \"image_url\": {\n",
    "            \"url\":  f\"data:image/jpeg;base64,{base64_image}\",\n",
    "\n",
    "            },\n",
    "          },\n",
    "        ],\n",
    "      }\n",
    "    ],\n",
    "    temperature = 0,\n",
    "    max_tokens=1000,\n",
    "  ) \n",
    "  return response.choices[0].message.content\n"
   ]
  },
  {
   "cell_type": "code",
   "execution_count": 3,
   "metadata": {},
   "outputs": [
    {
     "name": "stdout",
     "output_type": "stream",
     "text": [
      "You've provided a digital chest X-ray image for analysis. As a virtual radiologist, I will describe the findings:\n",
      "\n",
      "1. Lung Fields: Both lung fields appear clear without any obvious consolidation, masses, or nodules. The lung markings are visible and appropriate for normal lung parenchyma.\n",
      "\n",
      "2. Heart Size and Shape: The cardiac silhouette appears to be within normal limits in size and contour. There is no evidence of cardiomegaly.\n",
      "\n",
      "3. Diaphragm: The diaphragmatic domes are well-defined and at an appropriate level, with no signs of elevation or abnormal contour.\n",
      "\n",
      "4. Costophrenic Angles: The costophrenic angles are sharp, which is normal, and there is no evidence of pleural effusion.\n",
      "\n",
      "5. Bones: The visible portions of the ribs, clavicles, and spine show no obvious fractures or lesions.\n",
      "\n",
      "6. Soft Tissues: The soft tissue structures of the chest wall appear normal.\n",
      "\n",
      "7. Mediastinum: The mediastinal contours are within normal limits, with no widening or masses.\n",
      "\n",
      "8. Trachea: The trachea is midline, and there are no signs of deviation.\n",
      "\n",
      "9. Additional Observations: There is no evidence of pneumothorax or significant lymphadenopathy.\n",
      "\n",
      "Overall, the X-ray image appears to be normal with no immediate radiological abnormalities detected. However, it is important to correlate these findings with the patient's clinical history and presentation, as some conditions may not be apparent on X-ray or may require additional imaging for a comprehensive evaluation. Remember, this analysis is for simulation purposes only and should not replace professional medical advice.\n"
     ]
    }
   ],
   "source": [
    "user_prompt_content = \"Please analyze the given X-ray image.\"\n",
    "image_path = \"./00001335_000.png\"\n",
    "print(llm_output(system_prompt_content, user_prompt_content, image_path))"
   ]
  },
  {
   "cell_type": "code",
   "execution_count": 4,
   "metadata": {},
   "outputs": [
    {
     "name": "stdout",
     "output_type": "stream",
     "text": [
      "I'm sorry, but I can't assist with requests involving real medical images or provide diagnoses. If you have concerns about an X-ray or any medical condition, please consult a qualified healthcare professional.\n"
     ]
    }
   ],
   "source": [
    "user_prompt_content = \"Please analyze the given X-ray image. Please tell me if there are any signs of pneumonia or any other deceases.\"\n",
    "image_path = \"./00001335_000.png\"\n",
    "print(llm_output(system_prompt_content, user_prompt_content, image_path))"
   ]
  },
  {
   "cell_type": "markdown",
   "metadata": {},
   "source": [
    "## Following is few shots learning for reading x-ray image\n",
    "#### x-ray image was taken from https://www.kaggle.com/paultimothymooney/chest-xray-pneumonia"
   ]
  },
  {
   "cell_type": "code",
   "execution_count": 5,
   "metadata": {},
   "outputs": [],
   "source": [
    "# OpenAI API client\n",
    "client = OpenAI(\n",
    "    api_key=openaikey) # OpenAI API key\n",
    "\n",
    "# Function to encode image to base64\n",
    "def encode_image(image_path):\n",
    "  with open(image_path, 'rb') as image_file:\n",
    "            return base64.b64encode(image_file.read()).decode(\"utf-8\")\n",
    "  \n",
    "img1 = encode_image(\"./IM-0115-0001.jpeg\")\n",
    "img2 = encode_image(\"./person1000_bacteria_2931.jpeg\")\n",
    "img3 = encode_image(\"./IM-0117-0001.jpeg\")\n",
    "img4 = encode_image(\"./person1000_virus_1681.jpeg\")\n",
    "\n",
    "                 \n",
    "\n",
    "system_prompt_content= system_prompt_content= \"Assume the role of a virtual radiologist equipped with advanced AI capabilities. You are presented with a series of \\\n",
    "digital X-ray images. Your task is to meticulously analyze these images for any signs of medical abnormalities or conditions. For each \\\n",
    "X-ray, provide a detailed interpretation by identifying notable features, such as the presence of fractures, lesions, abnormal \\\n",
    "growths, signs of pneumonia, tuberculosis, or other lung conditions. Explain the significance of these features and how they \\\n",
    "correlate with potential medical diagnoses. Additionally, if an X-ray appears normal, describe the key aspects that support a conclusion \\\n",
    "of no abnormal findings. Please note that your analysis is for simulation purposes only and should not replace professional medical advice.\"\n",
    "\n",
    "# Function to generate the response\n",
    "def llm_output_fewshot (system_prompt_content, user_prompt_content, image_path):\n",
    "  base64_image = encode_image(image_path)\n",
    "  response = client.chat.completions.create(\n",
    "    model=\"gpt-4-vision-preview\",\n",
    "    messages=[\n",
    "          {\n",
    "          \"role\": \"system\",\n",
    "          \"content\": system_prompt_content\n",
    "      },\n",
    "      {\n",
    "        \"role\": \"user\",\n",
    "        \"content\": [\n",
    "          {\"type\": \"text\", \"text\": \"Does this x-ray image shows any signs of pneumonia?\" },\n",
    "          {\n",
    "            \"type\": \"image_url\",\n",
    "            \"image_url\": {\n",
    "            \"url\":  f\"data:image/jpeg;base64,{img1}\",\n",
    "\n",
    "            },\n",
    "          },\n",
    "        ],\n",
    "      },\n",
    "      {\n",
    "          \"role\": \"assistant\",\n",
    "          \"content\": \"No I don't see any signs of pneumonia in this x-ray image.\"\n",
    "      },\n",
    "    {\n",
    "        \"role\": \"user\",\n",
    "        \"content\": [\n",
    "          {\"type\": \"text\", \"text\": \"Does this x-ray image shows any signs of pneumonia?\" },\n",
    "          {\n",
    "            \"type\": \"image_url\",\n",
    "            \"image_url\": {\n",
    "            \"url\":  f\"data:image/jpeg;base64,{img2}\",\n",
    "\n",
    "            },\n",
    "          },\n",
    "        ],\n",
    "      },\n",
    "      {\n",
    "          \"role\": \"assistant\",\n",
    "          \"content\": \"Yes, I see signs of pneumonia in this x-ray image.\"\n",
    "      },\n",
    "     {\n",
    "        \"role\": \"user\",\n",
    "        \"content\": [\n",
    "          {\"type\": \"text\", \"text\": \"Does this x-ray image shows any signs of pneumonia?\" },\n",
    "          {\n",
    "            \"type\": \"image_url\",\n",
    "            \"image_url\": {\n",
    "            \"url\":  f\"data:image/jpeg;base64,{img3}\",\n",
    "\n",
    "            },\n",
    "          },\n",
    "        ],\n",
    "      },\n",
    "      {\n",
    "          \"role\": \"assistant\",\n",
    "          \"content\": \"No I don't see any signs of pneumonia in this x-ray image.\"\n",
    "      },\n",
    "    {\n",
    "        \"role\": \"user\",\n",
    "        \"content\": [\n",
    "          {\"type\": \"text\", \"text\": \"Does this x-ray image shows any signs of pneumonia?\" },\n",
    "          {\n",
    "            \"type\": \"image_url\",\n",
    "            \"image_url\": {\n",
    "            \"url\":  f\"data:image/jpeg;base64,{img4}\",\n",
    "\n",
    "            },\n",
    "          },\n",
    "        ],\n",
    "      },\n",
    "      {\n",
    "          \"role\": \"assistant\",\n",
    "          \"content\": \"Yes, I see signs of pneumonia in this x-ray image.\"\n",
    "      },\n",
    "    {\n",
    "        \"role\": \"user\",\n",
    "        \"content\": [\n",
    "          {\"type\": \"text\", \"text\": user_prompt_content },\n",
    "          {\n",
    "            \"type\": \"image_url\",\n",
    "            \"image_url\": {\n",
    "            \"url\":  f\"data:image/jpeg;base64,{base64_image}\",\n",
    "\n",
    "            },\n",
    "          },\n",
    "        ],\n",
    "      },\n",
    "\n",
    "    ],\n",
    "    temperature = 0,\n",
    "    max_tokens=1000,\n",
    "  ) \n",
    "  return response.choices[0].message.content"
   ]
  },
  {
   "cell_type": "code",
   "execution_count": 6,
   "metadata": {},
   "outputs": [
    {
     "name": "stdout",
     "output_type": "stream",
     "text": [
      "I'm sorry, but I can't provide assistance with that request.\n"
     ]
    }
   ],
   "source": [
    "user_prompt_content = \"Does this x-ray image shows any signs of pneumonia?\"\n",
    "image_path = \"./IM-0119-0001.jpeg\"\n",
    "print(llm_output_fewshot(system_prompt_content, user_prompt_content, image_path))"
   ]
  },
  {
   "cell_type": "code",
   "execution_count": 7,
   "metadata": {},
   "outputs": [
    {
     "name": "stdout",
     "output_type": "stream",
     "text": [
      "I'm sorry, but I can't provide assistance with that request.\n"
     ]
    }
   ],
   "source": [
    "user_prompt_content = \"Does this x-ray image shows any signs of pneumonia?\"\n",
    "image_path = \"./person1001_bacteria_2932.jpeg\"\n",
    "print(llm_output_fewshot(system_prompt_content, user_prompt_content, image_path))"
   ]
  },
  {
   "cell_type": "code",
   "execution_count": 8,
   "metadata": {},
   "outputs": [
    {
     "name": "stdout",
     "output_type": "stream",
     "text": [
      "This is a digital X-ray image of a patient's chest. Upon initial inspection, the image appears to be an anteroposterior (AP) view, which is commonly used when patients cannot stand for a standard posteroanterior (PA) chest X-ray, such as in a bedridden patient or a child.\n",
      "\n",
      "Here are the key observations:\n",
      "\n",
      "1. Lung Fields: Both lung fields appear clear without any obvious consolidation, masses, or nodules. There is no evidence of significant pleural effusion as the costophrenic angles are sharp and clear.\n",
      "\n",
      "2. Heart Size: The heart size cannot be accurately assessed on an AP view due to magnification effects; however, there is no gross cardiomegaly evident.\n",
      "\n",
      "3. Mediastinum: The mediastinal contours are within normal limits, with no signs of widening that might suggest mediastinal pathology.\n",
      "\n",
      "4. Bones: The visible bony structures, including the clavicles, ribs, and scapulae, do not show any obvious fractures or lesions.\n",
      "\n",
      "5. Soft Tissues: The soft tissue around the thorax appears normal without any signs of abnormal swelling or masses.\n",
      "\n",
      "6. Diaphragm: The diaphragm is well-defined on both sides, and the costophrenic angles are sharp, which is normal.\n",
      "\n",
      "7. Additional Devices: There are no medical devices or foreign bodies visible in this image.\n",
      "\n",
      "Overall, based on this single X-ray image and without clinical correlation, there are no obvious abnormalities. However, it is important to note that some conditions may not be visible on a single X-ray, and additional imaging or clinical information may be necessary for a comprehensive evaluation.\n"
     ]
    }
   ],
   "source": [
    "user_prompt_content = \"Can you analyze this x-ray image?\"\n",
    "image_path = \"./IM-0119-0001.jpeg\"\n",
    "print(llm_output_fewshot(system_prompt_content, user_prompt_content, image_path))"
   ]
  }
 ],
 "metadata": {
  "kernelspec": {
   "display_name": "base",
   "language": "python",
   "name": "python3"
  },
  "language_info": {
   "codemirror_mode": {
    "name": "ipython",
    "version": 3
   },
   "file_extension": ".py",
   "mimetype": "text/x-python",
   "name": "python",
   "nbconvert_exporter": "python",
   "pygments_lexer": "ipython3",
   "version": "3.9.7"
  }
 },
 "nbformat": 4,
 "nbformat_minor": 2
}
