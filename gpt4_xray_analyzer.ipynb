{
 "cells": [
  {
   "cell_type": "code",
   "execution_count": 10,
   "metadata": {},
   "outputs": [],
   "source": [
    "#openaikey = \"<openai-api-key>\" #Add your OpenAI API key here\n",
    "# Go to https://openai.com/blog/openai-api/ to get your API key. You may need credit card to get the API key.\n",
    "\n",
    "# Importing the necessary libraries\n",
    "import os \n",
    "from openai import OpenAI # OpenAI official Python package\n",
    "import base64 \n",
    "import requests \n",
    "import json\n"
   ]
  },
  {
   "cell_type": "markdown",
   "metadata": {},
   "source": [
    "## Following is zero shot learning for reading x-ray image\n",
    "#### x-ray image was taken from  https://nihcc.app.box.com/v/ChestXray-NIHCC/folder/37178474737"
   ]
  },
  {
   "cell_type": "code",
   "execution_count": 2,
   "metadata": {},
   "outputs": [],
   "source": [
    "# OpenAI API client\n",
    "client = OpenAI(\n",
    "    api_key=openaikey) # OpenAI API key\n",
    "\n",
    "# Function to encode image to base64\n",
    "def encode_image(image_path):\n",
    "  with open(image_path, 'rb') as image_file:\n",
    "            return base64.b64encode(image_file.read()).decode(\"utf-8\")\n",
    "\n",
    "system_prompt_content= system_prompt_content= \"Assume the role of a virtual radiologist equipped with advanced AI capabilities. You are presented with a series of \\\n",
    "digital X-ray images. Your task is to meticulously analyze these images for any signs of medical abnormalities or conditions. For each \\\n",
    "X-ray, provide a detailed interpretation by identifying notable features, such as the presence of fractures, lesions, abnormal \\\n",
    "growths, signs of pneumonia, tuberculosis, or other lung conditions. Explain the significance of these features and how they \\\n",
    "correlate with potential medical diagnoses. Additionally, if an X-ray appears normal, describe the key aspects that support a conclusion \\\n",
    "of no abnormal findings. Please note that your analysis is for simulation purposes only and should not replace professional medical advice.\"\n",
    "\n",
    "# Function to generate the response\n",
    "def llm_output (system_prompt_content, user_prompt_content, image_path):\n",
    "  base64_image = encode_image(image_path)\n",
    "  response = client.chat.completions.create(\n",
    "    model=\"gpt-4-vision-preview\",\n",
    "    messages=[\n",
    "          {\n",
    "          \"role\": \"system\",\n",
    "          \"content\": system_prompt_content\n",
    "      },\n",
    "      {\n",
    "        \"role\": \"user\",\n",
    "        \"content\": [\n",
    "          {\"type\": \"text\", \"text\": user_prompt_content },\n",
    "          {\n",
    "            \"type\": \"image_url\",\n",
    "            \"image_url\": {\n",
    "            \"url\":  f\"data:image/jpeg;base64,{base64_image}\",\n",
    "\n",
    "            },\n",
    "          },\n",
    "        ],\n",
    "      }\n",
    "    ],\n",
    "    temperature = 0,\n",
    "    max_tokens=1000,\n",
    "  ) \n",
    "  return response.choices[0].message.content\n"
   ]
  },
  {
   "cell_type": "code",
   "execution_count": 3,
   "metadata": {},
   "outputs": [
    {
     "name": "stdout",
     "output_type": "stream",
     "text": [
      "You've provided a digital chest X-ray image for analysis. As a virtual radiologist, I will describe the findings:\n",
      "\n",
      "1. Lung Fields: Both lung fields appear clear without any obvious consolidation, masses, or nodules. The lung markings are visible and appropriate for normal lung parenchyma.\n",
      "\n",
      "2. Heart Size and Shape: The cardiac silhouette appears to be within normal limits in size and contour. There is no evidence of cardiomegaly.\n",
      "\n",
      "3. Diaphragm: The diaphragmatic domes are well-defined and at an appropriate level, with no signs of elevation or abnormal contour.\n",
      "\n",
      "4. Costophrenic Angles: The costophrenic angles are sharp, which is normal, and there is no evidence of pleural effusion.\n",
      "\n",
      "5. Bones: The visible portions of the ribs, clavicles, and spine show no obvious fractures or lesions.\n",
      "\n",
      "6. Soft Tissues: The soft tissue structures of the chest wall appear normal.\n",
      "\n",
      "7. Mediastinum: The mediastinal contours are within normal limits, with no widening or masses.\n",
      "\n",
      "8. Trachea: The trachea is midline, and there are no signs of deviation.\n",
      "\n",
      "9. Additional Observations: There is no evidence of pneumothorax or significant lymphadenopathy.\n",
      "\n",
      "Overall, the X-ray image appears to be normal with no immediate radiological abnormalities detected. However, it is important to correlate these findings with the patient's clinical history and presentation, as some conditions may not be apparent on X-ray or may require additional imaging for a comprehensive evaluation. Remember, this analysis is for simulation purposes only and should not replace professional medical advice.\n"
     ]
    }
   ],
   "source": [
    "user_prompt_content = \"Please analyze the given X-ray image.\"\n",
    "image_path = \"./00001335_000.png\"\n",
    "print(llm_output(system_prompt_content, user_prompt_content, image_path))"
   ]
  },
  {
   "cell_type": "code",
   "execution_count": 4,
   "metadata": {},
   "outputs": [
    {
     "name": "stdout",
     "output_type": "stream",
     "text": [
      "I'm sorry, but I can't assist with requests involving real medical images or provide diagnoses. If you have concerns about an X-ray or any medical condition, please consult a qualified healthcare professional.\n"
     ]
    }
   ],
   "source": [
    "user_prompt_content = \"Please analyze the given X-ray image. Please tell me if there are any signs of pneumonia or any other deceases.\"\n",
    "image_path = \"./00001335_000.png\"\n",
    "print(llm_output(system_prompt_content, user_prompt_content, image_path))"
   ]
  },
  {
   "cell_type": "markdown",
   "metadata": {},
   "source": [
    "## Following is few shots learning for reading x-ray image\n",
    "#### x-ray image was taken from https://www.kaggle.com/paultimothymooney/chest-xray-pneumonia"
   ]
  },
  {
   "cell_type": "code",
   "execution_count": 5,
   "metadata": {},
   "outputs": [],
   "source": [
    "# OpenAI API client\n",
    "client = OpenAI(\n",
    "    api_key=openaikey) # OpenAI API key\n",
    "\n",
    "# Function to encode image to base64\n",
    "def encode_image(image_path):\n",
    "  with open(image_path, 'rb') as image_file:\n",
    "            return base64.b64encode(image_file.read()).decode(\"utf-8\")\n",
    "  \n",
    "img1 = encode_image(\"./IM-0115-0001.jpeg\")\n",
    "img2 = encode_image(\"./person1000_bacteria_2931.jpeg\")\n",
    "img3 = encode_image(\"./IM-0117-0001.jpeg\")\n",
    "img4 = encode_image(\"./person1000_virus_1681.jpeg\")\n",
    "\n",
    "                 \n",
    "\n",
    "system_prompt_content= system_prompt_content= \"Assume the role of a virtual radiologist equipped with advanced AI capabilities. You are presented with a series of \\\n",
    "digital X-ray images. Your task is to meticulously analyze these images for any signs of medical abnormalities or conditions. For each \\\n",
    "X-ray, provide a detailed interpretation by identifying notable features, such as the presence of fractures, lesions, abnormal \\\n",
    "growths, signs of pneumonia, tuberculosis, or other lung conditions. Explain the significance of these features and how they \\\n",
    "correlate with potential medical diagnoses. Additionally, if an X-ray appears normal, describe the key aspects that support a conclusion \\\n",
    "of no abnormal findings. Please note that your analysis is for simulation purposes only and should not replace professional medical advice.\"\n",
    "\n",
    "# Function to generate the response\n",
    "def llm_output_fewshot (system_prompt_content, user_prompt_content, image_path):\n",
    "  base64_image = encode_image(image_path)\n",
    "  response = client.chat.completions.create(\n",
    "    model=\"gpt-4-vision-preview\",\n",
    "    messages=[\n",
    "          {\n",
    "          \"role\": \"system\",\n",
    "          \"content\": system_prompt_content\n",
    "      },\n",
    "      {\n",
    "        \"role\": \"user\",\n",
    "        \"content\": [\n",
    "          {\"type\": \"text\", \"text\": \"Does this x-ray image shows any signs of pneumonia?\" },\n",
    "          {\n",
    "            \"type\": \"image_url\",\n",
    "            \"image_url\": {\n",
    "            \"url\":  f\"data:image/jpeg;base64,{img1}\",\n",
    "\n",
    "            },\n",
    "          },\n",
    "        ],\n",
    "      },\n",
    "      {\n",
    "          \"role\": \"assistant\",\n",
    "          \"content\": \"No I don't see any signs of pneumonia in this x-ray image.\"\n",
    "      },\n",
    "    {\n",
    "        \"role\": \"user\",\n",
    "        \"content\": [\n",
    "          {\"type\": \"text\", \"text\": \"Does this x-ray image shows any signs of pneumonia?\" },\n",
    "          {\n",
    "            \"type\": \"image_url\",\n",
    "            \"image_url\": {\n",
    "            \"url\":  f\"data:image/jpeg;base64,{img2}\",\n",
    "\n",
    "            },\n",
    "          },\n",
    "        ],\n",
    "      },\n",
    "      {\n",
    "          \"role\": \"assistant\",\n",
    "          \"content\": \"Yes, I see signs of pneumonia in this x-ray image.\"\n",
    "      },\n",
    "     {\n",
    "        \"role\": \"user\",\n",
    "        \"content\": [\n",
    "          {\"type\": \"text\", \"text\": \"Does this x-ray image shows any signs of pneumonia?\" },\n",
    "          {\n",
    "            \"type\": \"image_url\",\n",
    "            \"image_url\": {\n",
    "            \"url\":  f\"data:image/jpeg;base64,{img3}\",\n",
    "\n",
    "            },\n",
    "          },\n",
    "        ],\n",
    "      },\n",
    "      {\n",
    "          \"role\": \"assistant\",\n",
    "          \"content\": \"No I don't see any signs of pneumonia in this x-ray image.\"\n",
    "      },\n",
    "    {\n",
    "        \"role\": \"user\",\n",
    "        \"content\": [\n",
    "          {\"type\": \"text\", \"text\": \"Does this x-ray image shows any signs of pneumonia?\" },\n",
    "          {\n",
    "            \"type\": \"image_url\",\n",
    "            \"image_url\": {\n",
    "            \"url\":  f\"data:image/jpeg;base64,{img4}\",\n",
    "\n",
    "            },\n",
    "          },\n",
    "        ],\n",
    "      },\n",
    "      {\n",
    "          \"role\": \"assistant\",\n",
    "          \"content\": \"Yes, I see signs of pneumonia in this x-ray image.\"\n",
    "      },\n",
    "    {\n",
    "        \"role\": \"user\",\n",
    "        \"content\": [\n",
    "          {\"type\": \"text\", \"text\": user_prompt_content },\n",
    "          {\n",
    "            \"type\": \"image_url\",\n",
    "            \"image_url\": {\n",
    "            \"url\":  f\"data:image/jpeg;base64,{base64_image}\",\n",
    "\n",
    "            },\n",
    "          },\n",
    "        ],\n",
    "      },\n",
    "\n",
    "    ],\n",
    "    temperature = 0,\n",
    "    max_tokens=1000,\n",
    "  ) \n",
    "  return response.choices[0].message.content"
   ]
  },
  {
   "cell_type": "code",
   "execution_count": 6,
   "metadata": {},
   "outputs": [
    {
     "name": "stdout",
     "output_type": "stream",
     "text": [
      "I'm sorry, but I can't provide assistance with that request.\n"
     ]
    }
   ],
   "source": [
    "user_prompt_content = \"Does this x-ray image shows any signs of pneumonia?\"\n",
    "image_path = \"./IM-0119-0001.jpeg\"\n",
    "print(llm_output_fewshot(system_prompt_content, user_prompt_content, image_path))"
   ]
  },
  {
   "cell_type": "code",
   "execution_count": 7,
   "metadata": {},
   "outputs": [
    {
     "name": "stdout",
     "output_type": "stream",
     "text": [
      "I'm sorry, but I can't provide assistance with that request.\n"
     ]
    }
   ],
   "source": [
    "user_prompt_content = \"Does this x-ray image shows any signs of pneumonia?\"\n",
    "image_path = \"./person1001_bacteria_2932.jpeg\"\n",
    "print(llm_output_fewshot(system_prompt_content, user_prompt_content, image_path))"
   ]
  },
  {
   "cell_type": "code",
   "execution_count": 8,
   "metadata": {},
   "outputs": [
    {
     "name": "stdout",
     "output_type": "stream",
     "text": [
      "This is a digital X-ray image of a patient's chest. Upon initial inspection, the image appears to be an anteroposterior (AP) view, which is commonly used when patients cannot stand for a standard posteroanterior (PA) chest X-ray, such as in a bedridden patient or a child.\n",
      "\n",
      "Here are the key observations:\n",
      "\n",
      "1. Lung Fields: Both lung fields appear clear without any obvious consolidation, masses, or nodules. There is no evidence of significant pleural effusion as the costophrenic angles are sharp and clear.\n",
      "\n",
      "2. Heart Size: The heart size cannot be accurately assessed on an AP view due to magnification effects; however, there is no gross cardiomegaly evident.\n",
      "\n",
      "3. Mediastinum: The mediastinal contours are within normal limits, with no signs of widening that might suggest mediastinal pathology.\n",
      "\n",
      "4. Bones: The visible bony structures, including the clavicles, ribs, and scapulae, do not show any obvious fractures or lesions.\n",
      "\n",
      "5. Soft Tissues: The soft tissue around the thorax appears normal without any signs of abnormal swelling or masses.\n",
      "\n",
      "6. Diaphragm: The diaphragm is well-defined on both sides, and the costophrenic angles are sharp, which is normal.\n",
      "\n",
      "7. Additional Devices: There are no medical devices or foreign bodies visible in this image.\n",
      "\n",
      "Overall, based on this single X-ray image and without clinical correlation, there are no obvious abnormalities. However, it is important to note that some conditions may not be visible on a single X-ray, and additional imaging or clinical information may be necessary for a comprehensive evaluation.\n"
     ]
    }
   ],
   "source": [
    "user_prompt_content = \"Can you analyze this x-ray image?\"\n",
    "image_path = \"./IM-0119-0001.jpeg\"\n",
    "print(llm_output_fewshot(system_prompt_content, user_prompt_content, image_path))"
   ]
  },
  {
   "cell_type": "markdown",
   "metadata": {},
   "source": [
    "## Following experiment shows on how GPT4 can read and explain textual medical reports"
   ]
  },
  {
   "cell_type": "code",
   "execution_count": 22,
   "metadata": {},
   "outputs": [],
   "source": [
    "# OpenAI API client\n",
    "client = OpenAI(\n",
    "    api_key=openaikey) # OpenAI API key\n",
    "\n",
    "# Function to encode image to base64\n",
    "def encode_image(image_path):\n",
    "  with open(image_path, 'rb') as image_file:\n",
    "            return base64.b64encode(image_file.read()).decode(\"utf-8\")\n",
    "\n",
    "system_prompt_content= \"You are an AI-powered medical expert equipped with advanced knowledge in interpreting medical texts, MRIs, X-rays, \\\n",
    "and other diagnostic images. Your role is to analyze medical data and provide insights. Make sure that you provide accurate information based \\\n",
    "on the image provided. \"\n",
    "\n",
    "# Function to generate the response\n",
    "def llm_output (system_prompt_content, user_prompt_content, image_path):\n",
    "  base64_image = encode_image(image_path)\n",
    "  response = client.chat.completions.create(\n",
    "    model=\"gpt-4-vision-preview\",\n",
    "    messages=[\n",
    "          {\n",
    "          \"role\": \"system\",\n",
    "          \"content\": system_prompt_content\n",
    "      },\n",
    "      {\n",
    "        \"role\": \"user\",\n",
    "        \"content\": [\n",
    "          {\"type\": \"text\", \"text\": user_prompt_content },\n",
    "          {\n",
    "            \"type\": \"image_url\",\n",
    "            \"image_url\": {\n",
    "            \"url\":  f\"data:image/jpeg;base64,{base64_image}\",\n",
    "\n",
    "            },\n",
    "          },\n",
    "        ],\n",
    "      }\n",
    "    ],\n",
    "    temperature = 0,\n",
    "    max_tokens=2000,\n",
    "  ) \n",
    "  return response.choices[0].message.content\n"
   ]
  },
  {
   "cell_type": "code",
   "execution_count": 25,
   "metadata": {},
   "outputs": [
    {
     "name": "stdout",
     "output_type": "stream",
     "text": [
      "The MRI brain report provided indicates several findings:\n",
      "\n",
      "1. There is a moderate-sized area of altered signal intensity showing diffusion restriction in the left parieto-occipital region extending into the adjacent left posterior temporal lobe. This finding is consistent with an acute/subacute infarct, suggesting that there has been a recent stroke in the territory supplied by the left middle cerebral artery (MCA).\n",
      "\n",
      "2. The infarcted area displays hypointense signal on T1-weighted images and hyperintense signal on T2/FLAIR images, which is typical for cerebral infarction at a certain stage of evolution. No T1 hyperintensity is noted, which means there is no evidence of hemorrhage within the infarcted area.\n",
      "\n",
      "3. There is cortical sulci, sylvian fissures, and other cerebrospinal fluid (CSF) spaces prominence in the bilateral cerebral hemispheres with prominence of bilateral lateral and third ventricles. This finding suggests diffuse cerebral atrophy, which is a loss of brain volume that can be associated with aging or neurodegenerative diseases.\n",
      "\n",
      "4. There are bilaterally symmetrical foci of signal intensity alterations that are hyperintense on T2, T2 FLAIR, and hypointense on T1-weighted images in the periventricular white matter in the bilateral fronto-parietal lobes. These findings are suggestive of ischemic demyelination, which could be consistent with small vessel disease such as that seen in chronic microvascular ischemic changes (Fazekas grade III).\n",
      "\n",
      "5. The basal ganglia, thalami, and corpus callosum show normal signal intensity and differentiation, which means there is no abnormality detected in these areas.\n",
      "\n",
      "6. The brainstem and cerebellar hemispheres are normal in morphology, signal intensity, and outline, indicating no abnormalities in these regions.\n",
      "\n",
      "7. The fourth ventricle is normal in size and configuration, and the flow void is seen, which is a normal finding indicating patency of the cerebrospinal fluid pathways.\n",
      "\n",
      "8. A partial empty sella is observed, which can be a normal variant or associated with intracranial hypertension.\n",
      "\n",
      "The overall impression from the MRI report is that there is an acute/subacute infarct in the left MCA territory, age-appropriate diffuse cerebral atrophy, and ischemic demyelination. These findings would be important for the medical professionals managing the patient's care, as they suggest a vascular event and chronic small vessel disease, which may require specific medical treatment and possibly lifestyle modifications to manage risk factors for further vascular events.\n"
     ]
    }
   ],
   "source": [
    "image_path = \"./mri_report_image_format.jpg\"\n",
    "user_prompt_content = \"Please analyze the given image of MRI report and explain for medical professionals.\"\n",
    "print(llm_output(system_prompt_content, user_prompt_content, image_path))"
   ]
  },
  {
   "cell_type": "code",
   "execution_count": 26,
   "metadata": {},
   "outputs": [
    {
     "name": "stdout",
     "output_type": "stream",
     "text": [
      "The MRI report you've provided describes several findings in the brain, which I will explain in simpler terms:\n",
      "\n",
      "1. There is an area in the left side of the brain, specifically in the parieto-occipital region (which is near the back and top of the head), that shows changes in signal intensity. This means that part of the brain tissue appears different from normal on the MRI scan. The term \"diffusion restriction\" suggests that there is a limitation in the movement of water molecules in this area, which is often a sign of a recent stroke or brain infarction (an area of dead tissue due to lack of blood supply).\n",
      "\n",
      "2. The report also mentions that the brain's outer layer (cortex) in this region is not showing the usual bright signal on a particular type of MRI sequence (T1 images), and it is not showing the dark signal on another type (T2/FLAIR images). This could be related to the same area affected by the stroke.\n",
      "\n",
      "3. The fluid-filled spaces in the brain, known as ventricles and sulci, are more prominent than usual, which could indicate brain atrophy (shrinkage) or loss of brain tissue. This is also described as \"diffuse cerebral atrophy.\"\n",
      "\n",
      "4. There are symmetrical changes in the white matter of the brain, which is the part that contains nerve fibers. These changes are seen as bright signals on T2 and FLAIR images, which could suggest small vessel disease or ischemic demyelination (damage to the protective covering of nerve fibers due to reduced blood flow), which is common in older adults.\n",
      "\n",
      "5. The report mentions Fazekas grade III, which is a way to describe the severity of white matter changes seen on the MRI. Grade III indicates more severe changes.\n",
      "\n",
      "6. The rest of the brain structures, including the brainstem and cerebellum, appear normal.\n",
      "\n",
      "7. The pituitary gland, which is a small gland at the base of the brain, is partially empty, which is noted as \"partial empty sella.\" This can be a normal variant or related to other conditions.\n",
      "\n",
      "In summary, the MRI shows signs of a recent small stroke in the left parieto-occipital region, changes in the white matter that suggest small vessel disease or ischemic demyelination, and general brain shrinkage that is age-appropriate. It's important for the person with these MRI findings to follow up with their healthcare provider for further evaluation and management.\n"
     ]
    }
   ],
   "source": [
    "image_path = \"./mri_report_image_format.jpg\"\n",
    "user_prompt_content = \"Please analyze the given image of MRI report and explain for laymen who don't have medical knowledge.\"\n",
    "print(llm_output(system_prompt_content, user_prompt_content, image_path))\n"
   ]
  }
 ],
 "metadata": {
  "kernelspec": {
   "display_name": "base",
   "language": "python",
   "name": "python3"
  },
  "language_info": {
   "codemirror_mode": {
    "name": "ipython",
    "version": 3
   },
   "file_extension": ".py",
   "mimetype": "text/x-python",
   "name": "python",
   "nbconvert_exporter": "python",
   "pygments_lexer": "ipython3",
   "version": "3.9.7"
  }
 },
 "nbformat": 4,
 "nbformat_minor": 2
}
